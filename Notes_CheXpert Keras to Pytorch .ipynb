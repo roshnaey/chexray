{
 "cells": [
  {
   "cell_type": "code",
   "execution_count": null,
   "metadata": {},
   "outputs": [],
   "source": [
    "# TODOS:\n",
    "#     Ask Dr. A. for train csv file.\n",
    "      #understand t-SNE embedding\n",
    "      # What are the scores for, e.g. Pneumonia. What does NaN mean, vs. 1.0, vs. -1.0?\n",
    "        #what's going on in the plot_embedding function? // HOw does the scaling work?\n",
    "        \n",
    "        \n",
    "        #Keras to Pytorch\n",
    "        #Keras preprocessing done at input 26 -- \n",
    "        #for Pytorch use torchvision p. 23 in Deeplearning with Pytorch\n",
    "           #image size should be 512, 512\n",
    "            #convert image to grayscale\n",
    "        \n",
    "        \n",
    "        #input 17: This is where the augmentation takes place?\n",
    "        \n",
    "        #seed synchronization for masks (under gen_aug_images function)\n",
    "        \n",
    "        #IMPORTANT: Read up on ImageDataGenerator() object in sklearn\n",
    "        \n",
    "        #What's being displayed in input line 47?\n",
    "        \n",
    "        \n",
    "        \n",
    "        #Input 20: This is where we need to define a pytorch implementation of a \n",
    "        #Resnet architecture.\n",
    "        \n",
    "        #don't change the dimensions of the image when padding.\n",
    "        \n",
    "        #read about Keras Kernal regularizer\n",
    "            #what is this doing? kernel_regularizer=l2(1e-4))\n",
    "\n",
    "        \n",
    "        #We stoppped at df resnet_layer: How to build a resnet in Keras.\n",
    "        \n",
    "        #in definition resnet_v1 there is a reference to [a] is this a resnet paper?\n",
    "        \n",
    "        #Need to understand how Input class object works in Keras.\n",
    "        \n",
    "        #under resnet v 1, \"stacks of 2 x (3 x 3)\" -- what exactly is the dimensionality here?\n",
    "        \n",
    "        #where is stage 3?\n",
    "            #Features maps sizes:\n",
    "            #stage 0: 32x32, 16\n",
    "            #stage 1: 16x16, 32\n",
    "            #stage 2:  8x8,  64\n",
    "        \n",
    "        #things get interesting at def resnet_layer()\n",
    "        \n",
    "        \n",
    "        #Notes: it looks like Dr. A. was trying to implement his own resnet,\n",
    "        #then he decided to load various models: VGG16, VGG19, Inception, Xception, and Resnet50 \n",
    "        #that have already been trained on the imagenet dataset. {In other words: Transfer learning.}\n",
    "        \n",
    "        "
   ]
  },
  {
   "cell_type": "code",
   "execution_count": null,
   "metadata": {},
   "outputs": [],
   "source": [
    "import os\n",
    "import cv2\n",
    "import pickle\n",
    "import pandas as pd\n",
    "\n",
    "train_info_loc = os.path.join(\"D:\\\\\",\"Documents\",\"Medical\",\"CheXpert-v1.0-small\")\n",
    "train_file_name = \"train.csv\"\n",
    "train_info = pd.read_csv(os.path.join(train_info_loc, train_file_name))\n",
    "\n",
    "len(train_info)"
   ]
  }
 ],
 "metadata": {
  "kernelspec": {
   "display_name": "Python 3",
   "language": "python",
   "name": "python3"
  },
  "language_info": {
   "codemirror_mode": {
    "name": "ipython",
    "version": 3
   },
   "file_extension": ".py",
   "mimetype": "text/x-python",
   "name": "python",
   "nbconvert_exporter": "python",
   "pygments_lexer": "ipython3",
   "version": "3.8.5"
  },
  "varInspector": {
   "cols": {
    "lenName": 16,
    "lenType": 16,
    "lenVar": 40
   },
   "kernels_config": {
    "python": {
     "delete_cmd_postfix": "",
     "delete_cmd_prefix": "del ",
     "library": "var_list.py",
     "varRefreshCmd": "print(var_dic_list())"
    },
    "r": {
     "delete_cmd_postfix": ") ",
     "delete_cmd_prefix": "rm(",
     "library": "var_list.r",
     "varRefreshCmd": "cat(var_dic_list()) "
    }
   },
   "types_to_exclude": [
    "module",
    "function",
    "builtin_function_or_method",
    "instance",
    "_Feature"
   ],
   "window_display": false
  }
 },
 "nbformat": 4,
 "nbformat_minor": 4
}
